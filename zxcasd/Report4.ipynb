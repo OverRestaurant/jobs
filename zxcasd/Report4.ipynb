{
 "cells": [
  {
   "cell_type": "markdown",
   "id": "42f6e47a",
   "metadata": {},
   "source": [
    "# Сессия 4"
   ]
  },
  {
   "cell_type": "markdown",
   "id": "6264b343",
   "metadata": {},
   "source": [
    "## 4.1 Разработка бота"
   ]
  },
  {
   "cell_type": "code",
   "execution_count": 1,
   "id": "3c0a126a",
   "metadata": {},
   "outputs": [],
   "source": [
    "import pickle\n",
    "import re\n",
    "import pandas as pd\n",
    "import scipy.sparse\n",
    "import pymorphy2"
   ]
  },
  {
   "cell_type": "code",
   "execution_count": 2,
   "id": "31c4d8d8",
   "metadata": {},
   "outputs": [],
   "source": [
    "class bot:\n",
    "    \n",
    "    def __init__(self):\n",
    "        # Преобразователь для приведения слов текста в нормальную форму\n",
    "        self.morph = pymorphy2.MorphAnalyzer(lang='ru')\n",
    "        \n",
    "        # Преобразователь текста в вид разряженной матрицы\n",
    "        self.text_trans = pickle.load(open('text_transformer.pkl', 'rb'))\n",
    "        \n",
    "        # Список лишних атрибутов в разряженной матрице\n",
    "        self.attrs_to_del = pickle.load(open('attrs_to_delS3.pkl', 'rb'))\n",
    "        \n",
    "        # Сама модель которая используется для получения адресата по тексту письма\n",
    "        self.model = pickle.load(open('model.pkl', 'rb'))\n",
    "        \n",
    "        # Список ключевых слов нужный для обработки естественной речи \n",
    "        self.commands_key_words = {\n",
    "                '/help' : '''помощь помогите справка узнать команды может привет здравствуй'''.split(),\n",
    "                '/exit' : '''пока прощай пошёл ухожу выйти выход'''.split(),\n",
    "                '/model_predict' : '''направить письмо заявление узнать адресат написано'''.split(),\n",
    "            }\n",
    "        for key in self.commands_key_words.keys():\n",
    "            self.commands_key_words[key] = self.lemmatization(self.commands_key_words[key])\n",
    "    \n",
    "    # Очистка текста дял естественной речи \n",
    "    def input_preprocess(self, text):\n",
    "        text = text.lower()\n",
    "        text = re.sub('\\W', ' ', text)\n",
    "        text = re.sub(' +', ' ', text)\n",
    "        return text\n",
    "    \n",
    "    # Лемматизация слов списка слов\n",
    "    def lemmatization(self, word_list):\n",
    "        lem_list = []\n",
    "        for word in word_list:\n",
    "            lem_list.append(self.morph.parse(word)[0].normal_form)\n",
    "        return lem_list\n",
    "    \n",
    "    # Метод для получения предсказаний на основе списка текстов, возвращает список, \n",
    "    # где в каждом элементе находится список из классов и их вероятности \n",
    "    def model_predict(self, text_col):\n",
    "        text_col = pd.Series(text_col).str.lower()\\\n",
    "                            .str.replace('[^a-zа-я ]', '', regex=True)\\\n",
    "                            .str.split()\\\n",
    "                            .apply(lambda x: ' '.join(self.lemmatization(x)))\n",
    "        \n",
    "        data_to_predict = pd.DataFrame.sparse.from_spmatrix(\n",
    "                                self.text_trans.transform(text_col),\n",
    "                                columns=self.text_trans.get_feature_names_out())\\\n",
    "                            .drop(columns=self.attrs_to_del)\n",
    "        \n",
    "        return [list(zip(self.model.classes_, probas)) for probas in self.model.predict_proba(data_to_predict)]\n",
    "    \n",
    "    # Вывод текста ботом\n",
    "    def bot_print(self, text):\n",
    "        print(f'Бот: {text}\\nПользователь: ', end='')\n",
    "    \n",
    "    # Получения справки комманд бота\n",
    "    def help_me(self):\n",
    "        self.bot_print('''Мои команды:\n",
    "/help - увидеть это сообщение\n",
    "/bot_predict - получить адресата по тексту\n",
    "/exit - выйти из бота\n",
    "Также бот поддерживает естественный язык, попробуйте написать \"Кому бы можно было направить письмо, в котором написано о квалификации на повышение\"'''\n",
    "        )\n",
    "    \n",
    "    # Получение предсказаний ботом\n",
    "    def bot_predict(self, text = -1, mode = -1):\n",
    "        if text == -1:\n",
    "            self.bot_print('Введите ваше сообщение для получения адресата')\n",
    "            text = str(input())\n",
    "    \n",
    "        if mode == -1:\n",
    "            self.bot_print('В каком режиме вы хотите получить адресат[а/ов] сообщения 0 - один наиболее вероятный, 1 - несколько вероятных')\n",
    "            mode = bool(int(input()))\n",
    "            \n",
    "        to_predict = [text]\n",
    "        prediction = sorted(self.model_predict(to_predict)[0], key = lambda x: x[1], reverse=True)\n",
    "        if mode == 0:\n",
    "            self.bot_print(f'Наиболее вероятным адресатом вашего сообщения является - {prediction[0][0]}')\n",
    "        elif mode == 1:\n",
    "            text_output = '\\n'.join([f'{x[0]} - {x[1]}' for x in prediction if x[1] != 0])\n",
    "            self.bot_print(f'Наиболее вероятными адресатами вашего сообщения могут являться - {text_output}')\n",
    "            \n",
    "    \n",
    "    # Получение комманды бота на основе списка нормализованных слов\n",
    "    def get_command(self, norm_text_list):\n",
    "        command = ['None', 0]\n",
    "        for key in self.commands_key_words.keys():\n",
    "            index = 0\n",
    "            for word in norm_text_list:\n",
    "                if word in self.commands_key_words[key]:\n",
    "                    index += 1\n",
    "            if index > command[1]:\n",
    "                command[0] = key\n",
    "                command[1] = index\n",
    "        return command[0]\n",
    "    \n",
    "    # Обработчик естественного языка ботом\n",
    "    def NL_process(self, text):\n",
    "        full_text = text\n",
    "        text = self.input_preprocess(text[:30])\n",
    "        norm_text_list = self.lemmatization(text.split())\n",
    "        norm_text = ' '.join(norm_text_list)\n",
    "        command = self.get_command(norm_text_list)\n",
    "        \n",
    "        if command == '/help':\n",
    "            self.help_me()\n",
    "        elif command == '/exit':\n",
    "            return 'Exit'\n",
    "        elif command == '/model_predict':\n",
    "            self.bot_predict(full_text)\n",
    "        else:\n",
    "            self.bot_print('Cообщение не распознано')\n",
    "     "
   ]
  },
  {
   "cell_type": "code",
   "execution_count": 3,
   "id": "ba3d3bc9",
   "metadata": {},
   "outputs": [],
   "source": [
    "# Функция для начала работы бота в консоли \n",
    "def bot_start_pooling():\n",
    "    bot_ = bot()\n",
    "    bot_.bot_print('Для получения справки команд напишите /help, или можете также делать запрос на естественном языке')\n",
    "    while True:\n",
    "        command = str(input())\n",
    "        if command == '/help':\n",
    "            bot_.help_me()\n",
    "        elif command == '/bot_predict':\n",
    "            bot_.bot_predict()\n",
    "        elif command == '/exit':\n",
    "            break\n",
    "        else:\n",
    "            return_ = bot_.NL_process(command)\n",
    "            if return_ == 'Exit':\n",
    "                break"
   ]
  },
  {
   "cell_type": "code",
   "execution_count": 4,
   "id": "574f499d",
   "metadata": {},
   "outputs": [
    {
     "name": "stdout",
     "output_type": "stream",
     "text": [
      "Бот: Для получения справки команд напишите /help, или можете также делать запрос на естественном языке\n",
      "Пользователь: asdfasdf\n",
      "Бот: Cообщение не распознано\n",
      "Пользователь: "
     ]
    },
    {
     "ename": "KeyboardInterrupt",
     "evalue": "Interrupted by user",
     "output_type": "error",
     "traceback": [
      "\u001b[1;31m---------------------------------------------------------------------------\u001b[0m",
      "\u001b[1;31mKeyboardInterrupt\u001b[0m                         Traceback (most recent call last)",
      "Input \u001b[1;32mIn [4]\u001b[0m, in \u001b[0;36m<cell line: 2>\u001b[1;34m()\u001b[0m\n\u001b[0;32m      1\u001b[0m \u001b[38;5;66;03m# Позволяет как запускать бота в консоли, так и импортировать его функции в другой код\u001b[39;00m\n\u001b[0;32m      2\u001b[0m \u001b[38;5;28;01mif\u001b[39;00m \u001b[38;5;18m__name__\u001b[39m \u001b[38;5;241m==\u001b[39m \u001b[38;5;124m'\u001b[39m\u001b[38;5;124m__main__\u001b[39m\u001b[38;5;124m'\u001b[39m:\n\u001b[1;32m----> 3\u001b[0m     \u001b[43mbot_start_pooling\u001b[49m\u001b[43m(\u001b[49m\u001b[43m)\u001b[49m\n",
      "Input \u001b[1;32mIn [3]\u001b[0m, in \u001b[0;36mbot_start_pooling\u001b[1;34m()\u001b[0m\n\u001b[0;32m      4\u001b[0m bot_\u001b[38;5;241m.\u001b[39mbot_print(\u001b[38;5;124m'\u001b[39m\u001b[38;5;124mДля получения справки команд напишите /help, или можете также делать запрос на естественном языке\u001b[39m\u001b[38;5;124m'\u001b[39m)\n\u001b[0;32m      5\u001b[0m \u001b[38;5;28;01mwhile\u001b[39;00m \u001b[38;5;28;01mTrue\u001b[39;00m:\n\u001b[1;32m----> 6\u001b[0m     command \u001b[38;5;241m=\u001b[39m \u001b[38;5;28mstr\u001b[39m(\u001b[38;5;28;43minput\u001b[39;49m\u001b[43m(\u001b[49m\u001b[43m)\u001b[49m)\n\u001b[0;32m      7\u001b[0m     \u001b[38;5;28;01mif\u001b[39;00m command \u001b[38;5;241m==\u001b[39m \u001b[38;5;124m'\u001b[39m\u001b[38;5;124m/help\u001b[39m\u001b[38;5;124m'\u001b[39m:\n\u001b[0;32m      8\u001b[0m         bot_\u001b[38;5;241m.\u001b[39mhelp_me()\n",
      "File \u001b[1;32mE:\\Programms\\Anaconda\\envs\\env420\\lib\\site-packages\\ipykernel\\kernelbase.py:1159\u001b[0m, in \u001b[0;36mKernel.raw_input\u001b[1;34m(self, prompt)\u001b[0m\n\u001b[0;32m   1155\u001b[0m \u001b[38;5;28;01mif\u001b[39;00m \u001b[38;5;129;01mnot\u001b[39;00m \u001b[38;5;28mself\u001b[39m\u001b[38;5;241m.\u001b[39m_allow_stdin:\n\u001b[0;32m   1156\u001b[0m     \u001b[38;5;28;01mraise\u001b[39;00m StdinNotImplementedError(\n\u001b[0;32m   1157\u001b[0m         \u001b[38;5;124m\"\u001b[39m\u001b[38;5;124mraw_input was called, but this frontend does not support input requests.\u001b[39m\u001b[38;5;124m\"\u001b[39m\n\u001b[0;32m   1158\u001b[0m     )\n\u001b[1;32m-> 1159\u001b[0m \u001b[38;5;28;01mreturn\u001b[39;00m \u001b[38;5;28;43mself\u001b[39;49m\u001b[38;5;241;43m.\u001b[39;49m\u001b[43m_input_request\u001b[49m\u001b[43m(\u001b[49m\n\u001b[0;32m   1160\u001b[0m \u001b[43m    \u001b[49m\u001b[38;5;28;43mstr\u001b[39;49m\u001b[43m(\u001b[49m\u001b[43mprompt\u001b[49m\u001b[43m)\u001b[49m\u001b[43m,\u001b[49m\n\u001b[0;32m   1161\u001b[0m \u001b[43m    \u001b[49m\u001b[38;5;28;43mself\u001b[39;49m\u001b[38;5;241;43m.\u001b[39;49m\u001b[43m_parent_ident\u001b[49m\u001b[43m[\u001b[49m\u001b[38;5;124;43m\"\u001b[39;49m\u001b[38;5;124;43mshell\u001b[39;49m\u001b[38;5;124;43m\"\u001b[39;49m\u001b[43m]\u001b[49m\u001b[43m,\u001b[49m\n\u001b[0;32m   1162\u001b[0m \u001b[43m    \u001b[49m\u001b[38;5;28;43mself\u001b[39;49m\u001b[38;5;241;43m.\u001b[39;49m\u001b[43mget_parent\u001b[49m\u001b[43m(\u001b[49m\u001b[38;5;124;43m\"\u001b[39;49m\u001b[38;5;124;43mshell\u001b[39;49m\u001b[38;5;124;43m\"\u001b[39;49m\u001b[43m)\u001b[49m\u001b[43m,\u001b[49m\n\u001b[0;32m   1163\u001b[0m \u001b[43m    \u001b[49m\u001b[43mpassword\u001b[49m\u001b[38;5;241;43m=\u001b[39;49m\u001b[38;5;28;43;01mFalse\u001b[39;49;00m\u001b[43m,\u001b[49m\n\u001b[0;32m   1164\u001b[0m \u001b[43m\u001b[49m\u001b[43m)\u001b[49m\n",
      "File \u001b[1;32mE:\\Programms\\Anaconda\\envs\\env420\\lib\\site-packages\\ipykernel\\kernelbase.py:1201\u001b[0m, in \u001b[0;36mKernel._input_request\u001b[1;34m(self, prompt, ident, parent, password)\u001b[0m\n\u001b[0;32m   1198\u001b[0m             \u001b[38;5;28;01mbreak\u001b[39;00m\n\u001b[0;32m   1199\u001b[0m \u001b[38;5;28;01mexcept\u001b[39;00m \u001b[38;5;167;01mKeyboardInterrupt\u001b[39;00m:\n\u001b[0;32m   1200\u001b[0m     \u001b[38;5;66;03m# re-raise KeyboardInterrupt, to truncate traceback\u001b[39;00m\n\u001b[1;32m-> 1201\u001b[0m     \u001b[38;5;28;01mraise\u001b[39;00m \u001b[38;5;167;01mKeyboardInterrupt\u001b[39;00m(\u001b[38;5;124m\"\u001b[39m\u001b[38;5;124mInterrupted by user\u001b[39m\u001b[38;5;124m\"\u001b[39m) \u001b[38;5;28;01mfrom\u001b[39;00m \u001b[38;5;28mNone\u001b[39m\n\u001b[0;32m   1202\u001b[0m \u001b[38;5;28;01mexcept\u001b[39;00m \u001b[38;5;167;01mException\u001b[39;00m:\n\u001b[0;32m   1203\u001b[0m     \u001b[38;5;28mself\u001b[39m\u001b[38;5;241m.\u001b[39mlog\u001b[38;5;241m.\u001b[39mwarning(\u001b[38;5;124m\"\u001b[39m\u001b[38;5;124mInvalid Message:\u001b[39m\u001b[38;5;124m\"\u001b[39m, exc_info\u001b[38;5;241m=\u001b[39m\u001b[38;5;28;01mTrue\u001b[39;00m)\n",
      "\u001b[1;31mKeyboardInterrupt\u001b[0m: Interrupted by user"
     ]
    }
   ],
   "source": [
    "# Позволяет как запускать бота в консоли, так и импортировать его функции в другой код\n",
    "if __name__ == '__main__':\n",
    "    bot_start_pooling()"
   ]
  },
  {
   "cell_type": "code",
   "execution_count": null,
   "id": "7237c177",
   "metadata": {},
   "outputs": [],
   "source": []
  }
 ],
 "metadata": {
  "kernelspec": {
   "display_name": "Python 3 (ipykernel)",
   "language": "python",
   "name": "python3"
  },
  "language_info": {
   "codemirror_mode": {
    "name": "ipython",
    "version": 3
   },
   "file_extension": ".py",
   "mimetype": "text/x-python",
   "name": "python",
   "nbconvert_exporter": "python",
   "pygments_lexer": "ipython3",
   "version": "3.9.12"
  },
  "toc": {
   "base_numbering": 1,
   "nav_menu": {},
   "number_sections": true,
   "sideBar": true,
   "skip_h1_title": false,
   "title_cell": "Table of Contents",
   "title_sidebar": "Contents",
   "toc_cell": false,
   "toc_position": {},
   "toc_section_display": true,
   "toc_window_display": false
  },
  "varInspector": {
   "cols": {
    "lenName": 16,
    "lenType": 16,
    "lenVar": 40
   },
   "kernels_config": {
    "python": {
     "delete_cmd_postfix": "",
     "delete_cmd_prefix": "del ",
     "library": "var_list.py",
     "varRefreshCmd": "print(var_dic_list())"
    },
    "r": {
     "delete_cmd_postfix": ") ",
     "delete_cmd_prefix": "rm(",
     "library": "var_list.r",
     "varRefreshCmd": "cat(var_dic_list()) "
    }
   },
   "types_to_exclude": [
    "module",
    "function",
    "builtin_function_or_method",
    "instance",
    "_Feature"
   ],
   "window_display": false
  }
 },
 "nbformat": 4,
 "nbformat_minor": 5
}
