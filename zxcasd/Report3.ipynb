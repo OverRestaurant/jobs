{
 "cells": [
  {
   "cell_type": "markdown",
   "id": "dc344364",
   "metadata": {},
   "source": [
    "# Сессия 3"
   ]
  },
  {
   "cell_type": "markdown",
   "id": "c14c4d62",
   "metadata": {},
   "source": [
    "## 3.0 Загрузка данных"
   ]
  },
  {
   "cell_type": "code",
   "execution_count": 1,
   "id": "558c9b13",
   "metadata": {},
   "outputs": [],
   "source": [
    "import pickle"
   ]
  },
  {
   "cell_type": "code",
   "execution_count": 2,
   "id": "88fe1478",
   "metadata": {},
   "outputs": [],
   "source": [
    "data = pickle.load(open('splitted_data.pkl', 'rb'))"
   ]
  },
  {
   "cell_type": "code",
   "execution_count": 3,
   "id": "da58df5c",
   "metadata": {},
   "outputs": [],
   "source": [
    "data = {'x_tr' : data[0], 'x_te': data[1], 'y_tr': data[2], 'y_te': data[3]}"
   ]
  },
  {
   "cell_type": "code",
   "execution_count": 4,
   "id": "b96277f7",
   "metadata": {},
   "outputs": [],
   "source": [
    "data['x_tr'] = data['x_tr'].drop(columns='Должность_автора')\n",
    "data['x_te'] = data['x_te'].drop(columns='Должность_автора')"
   ]
  },
  {
   "cell_type": "markdown",
   "id": "13cbc3c6",
   "metadata": {},
   "source": [
    "## 3.1 Обучение"
   ]
  },
  {
   "cell_type": "markdown",
   "id": "5ed2fbcb",
   "metadata": {},
   "source": [
    "По причинам рассмотренными в предыдущей сессии для обучения буду брать модели MultinomialNB, ComplementNB и RandomForestClassifier"
   ]
  },
  {
   "cell_type": "code",
   "execution_count": 5,
   "id": "9be5529c",
   "metadata": {},
   "outputs": [],
   "source": [
    "from sklearn.naive_bayes import MultinomialNB\n",
    "from sklearn.naive_bayes import ComplementNB\n",
    "from sklearn.ensemble import RandomForestClassifier"
   ]
  },
  {
   "cell_type": "markdown",
   "id": "d5258c69",
   "metadata": {},
   "source": [
    "В качестве метрик буду использовать f1_score, которая является общей метрикой определения ошибок модели; а также метрику точности модели, выявляющую количество правильных предсказаний делённое на общее количество предсказаний"
   ]
  },
  {
   "cell_type": "code",
   "execution_count": 6,
   "id": "a101e9d4",
   "metadata": {},
   "outputs": [],
   "source": [
    "from sklearn.metrics import f1_score, accuracy_score"
   ]
  },
  {
   "cell_type": "markdown",
   "id": "ccb84793",
   "metadata": {},
   "source": [
    "MultinomialNB"
   ]
  },
  {
   "cell_type": "code",
   "execution_count": 10,
   "id": "2d672130",
   "metadata": {},
   "outputs": [],
   "source": [
    "MNB = MultinomialNB().fit(data['x_tr'], data['y_tr'])"
   ]
  },
  {
   "cell_type": "code",
   "execution_count": 11,
   "id": "61c1ea32",
   "metadata": {},
   "outputs": [
    {
     "data": {
      "text/plain": [
       "0.6548631767017012"
      ]
     },
     "execution_count": 11,
     "metadata": {},
     "output_type": "execute_result"
    }
   ],
   "source": [
    "f1_score(MNB.predict(data['x_te']), data['y_te'], average='weighted')"
   ]
  },
  {
   "cell_type": "code",
   "execution_count": 12,
   "id": "1e23cd0a",
   "metadata": {},
   "outputs": [
    {
     "data": {
      "text/plain": [
       "0.623030303030303"
      ]
     },
     "execution_count": 12,
     "metadata": {},
     "output_type": "execute_result"
    }
   ],
   "source": [
    "accuracy_score(MNB.predict(data['x_te']), data['y_te'])"
   ]
  },
  {
   "cell_type": "markdown",
   "id": "634ab84e",
   "metadata": {},
   "source": [
    "ComplementNB"
   ]
  },
  {
   "cell_type": "code",
   "execution_count": 13,
   "id": "0078a69d",
   "metadata": {},
   "outputs": [],
   "source": [
    "CNB = ComplementNB().fit(data['x_tr'], data['y_tr'])"
   ]
  },
  {
   "cell_type": "code",
   "execution_count": 14,
   "id": "db9d9e86",
   "metadata": {},
   "outputs": [
    {
     "data": {
      "text/plain": [
       "0.6717248557870842"
      ]
     },
     "execution_count": 14,
     "metadata": {},
     "output_type": "execute_result"
    }
   ],
   "source": [
    "f1_score(CNB.predict(data['x_te']), data['y_te'], average='weighted')"
   ]
  },
  {
   "cell_type": "code",
   "execution_count": 15,
   "id": "1e28a796",
   "metadata": {},
   "outputs": [
    {
     "data": {
      "text/plain": [
       "0.6315151515151515"
      ]
     },
     "execution_count": 15,
     "metadata": {},
     "output_type": "execute_result"
    }
   ],
   "source": [
    "accuracy_score(CNB.predict(data['x_te']), data['y_te'])"
   ]
  },
  {
   "cell_type": "markdown",
   "id": "6c9ed8f4",
   "metadata": {},
   "source": [
    "RandomForestClassifier"
   ]
  },
  {
   "cell_type": "code",
   "execution_count": 22,
   "id": "70628bc4",
   "metadata": {},
   "outputs": [],
   "source": [
    "RFC = RandomForestClassifier(random_state=1).fit(data['x_tr'], data['y_tr'])"
   ]
  },
  {
   "cell_type": "code",
   "execution_count": 23,
   "id": "f0ae1604",
   "metadata": {},
   "outputs": [
    {
     "data": {
      "text/plain": [
       "0.6744430142513936"
      ]
     },
     "execution_count": 23,
     "metadata": {},
     "output_type": "execute_result"
    }
   ],
   "source": [
    "f1_score(RFC.predict(data['x_te']), data['y_te'], average='weighted')"
   ]
  },
  {
   "cell_type": "code",
   "execution_count": 24,
   "id": "114bab6c",
   "metadata": {},
   "outputs": [
    {
     "data": {
      "text/plain": [
       "0.6593939393939394"
      ]
     },
     "execution_count": 24,
     "metadata": {},
     "output_type": "execute_result"
    }
   ],
   "source": [
    "accuracy_score(RFC.predict(data['x_te']), data['y_te'])"
   ]
  },
  {
   "cell_type": "markdown",
   "id": "6f2c9909",
   "metadata": {},
   "source": [
    "Наилучшим образом показала себя модель RandomForestClassifier, при этом обучаясь не на много дольше остпльных моделей "
   ]
  },
  {
   "cell_type": "markdown",
   "id": "39617ee9",
   "metadata": {},
   "source": [
    "Её и буду использовать для дальнейшего обучения и проверок"
   ]
  },
  {
   "cell_type": "markdown",
   "id": "02263cd9",
   "metadata": {},
   "source": [
    "## 3.2 Feature Engineering"
   ]
  },
  {
   "cell_type": "markdown",
   "id": "dc0883ea",
   "metadata": {},
   "source": [
    "В качестве Feature Engineering попробую удалить некоторые малоинформативные атрибуты, что позволит избавиться от лишних данных; а также удалю редкие классы, шансы предсказания которых равны или близки к нулю. Это позволит сократить количество данных и в теории улучшить точность модели"
   ]
  },
  {
   "cell_type": "markdown",
   "id": "87ee61ff",
   "metadata": {},
   "source": [
    "Для простоты преобразований соединю пока весь разделённый датасет в один"
   ]
  },
  {
   "cell_type": "code",
   "execution_count": 25,
   "id": "4df4d82a",
   "metadata": {},
   "outputs": [],
   "source": [
    "import pandas as pd"
   ]
  },
  {
   "cell_type": "code",
   "execution_count": 26,
   "id": "d4a23cdd",
   "metadata": {},
   "outputs": [],
   "source": [
    "data = pd.concat([\n",
    "    pd.concat([data['y_tr'], data['x_tr']], axis = 1),\n",
    "    pd.concat([data['y_te'], data['x_te']], axis = 1)\n",
    "])"
   ]
  },
  {
   "cell_type": "code",
   "execution_count": 27,
   "id": "e0a840c2",
   "metadata": {},
   "outputs": [
    {
     "data": {
      "text/html": [
       "<div>\n",
       "<style scoped>\n",
       "    .dataframe tbody tr th:only-of-type {\n",
       "        vertical-align: middle;\n",
       "    }\n",
       "\n",
       "    .dataframe tbody tr th {\n",
       "        vertical-align: top;\n",
       "    }\n",
       "\n",
       "    .dataframe thead th {\n",
       "        text-align: right;\n",
       "    }\n",
       "</style>\n",
       "<table border=\"1\" class=\"dataframe\">\n",
       "  <thead>\n",
       "    <tr style=\"text-align: right;\">\n",
       "      <th></th>\n",
       "      <th>Должность_адресата</th>\n",
       "      <th>cad</th>\n",
       "      <th>cis</th>\n",
       "      <th>competition</th>\n",
       "      <th>digitallskills</th>\n",
       "      <th>digitalskills</th>\n",
       "      <th>esim</th>\n",
       "      <th>europe</th>\n",
       "      <th>euroskills</th>\n",
       "      <th>futureskills</th>\n",
       "      <th>...</th>\n",
       "      <th>электронный</th>\n",
       "      <th>энергия</th>\n",
       "      <th>этап</th>\n",
       "      <th>этот</th>\n",
       "      <th>юниор</th>\n",
       "      <th>якутия</th>\n",
       "      <th>якутск</th>\n",
       "      <th>ялтинский</th>\n",
       "      <th>янв</th>\n",
       "      <th>январь</th>\n",
       "    </tr>\n",
       "  </thead>\n",
       "  <tbody>\n",
       "    <tr>\n",
       "      <th>4309</th>\n",
       "      <td>Агентство развития профессиональных сообществ ...</td>\n",
       "      <td>0</td>\n",
       "      <td>0</td>\n",
       "      <td>0</td>\n",
       "      <td>0</td>\n",
       "      <td>0</td>\n",
       "      <td>0</td>\n",
       "      <td>0</td>\n",
       "      <td>0</td>\n",
       "      <td>0</td>\n",
       "      <td>...</td>\n",
       "      <td>0</td>\n",
       "      <td>0</td>\n",
       "      <td>0</td>\n",
       "      <td>0</td>\n",
       "      <td>0</td>\n",
       "      <td>0</td>\n",
       "      <td>0</td>\n",
       "      <td>0</td>\n",
       "      <td>0</td>\n",
       "      <td>0</td>\n",
       "    </tr>\n",
       "    <tr>\n",
       "      <th>4754</th>\n",
       "      <td>Агентство развития профессиональных сообществ ...</td>\n",
       "      <td>0</td>\n",
       "      <td>0</td>\n",
       "      <td>0</td>\n",
       "      <td>0</td>\n",
       "      <td>0</td>\n",
       "      <td>0</td>\n",
       "      <td>0</td>\n",
       "      <td>0</td>\n",
       "      <td>0</td>\n",
       "      <td>...</td>\n",
       "      <td>0</td>\n",
       "      <td>0</td>\n",
       "      <td>0</td>\n",
       "      <td>0</td>\n",
       "      <td>0</td>\n",
       "      <td>0</td>\n",
       "      <td>0</td>\n",
       "      <td>0</td>\n",
       "      <td>0</td>\n",
       "      <td>0</td>\n",
       "    </tr>\n",
       "    <tr>\n",
       "      <th>2370</th>\n",
       "      <td>Агентство развития профессиональных сообществ ...</td>\n",
       "      <td>0</td>\n",
       "      <td>0</td>\n",
       "      <td>0</td>\n",
       "      <td>0</td>\n",
       "      <td>0</td>\n",
       "      <td>0</td>\n",
       "      <td>0</td>\n",
       "      <td>0</td>\n",
       "      <td>0</td>\n",
       "      <td>...</td>\n",
       "      <td>0</td>\n",
       "      <td>0</td>\n",
       "      <td>0</td>\n",
       "      <td>0</td>\n",
       "      <td>0</td>\n",
       "      <td>0</td>\n",
       "      <td>0</td>\n",
       "      <td>0</td>\n",
       "      <td>0</td>\n",
       "      <td>0</td>\n",
       "    </tr>\n",
       "    <tr>\n",
       "      <th>399</th>\n",
       "      <td>Агентство развития профессиональных сообществ ...</td>\n",
       "      <td>0</td>\n",
       "      <td>0</td>\n",
       "      <td>0</td>\n",
       "      <td>0</td>\n",
       "      <td>0</td>\n",
       "      <td>0</td>\n",
       "      <td>0</td>\n",
       "      <td>0</td>\n",
       "      <td>0</td>\n",
       "      <td>...</td>\n",
       "      <td>0</td>\n",
       "      <td>0</td>\n",
       "      <td>0</td>\n",
       "      <td>0</td>\n",
       "      <td>0</td>\n",
       "      <td>0</td>\n",
       "      <td>0</td>\n",
       "      <td>0</td>\n",
       "      <td>0</td>\n",
       "      <td>0</td>\n",
       "    </tr>\n",
       "    <tr>\n",
       "      <th>225</th>\n",
       "      <td>Агентство развития профессиональных сообществ ...</td>\n",
       "      <td>0</td>\n",
       "      <td>0</td>\n",
       "      <td>0</td>\n",
       "      <td>0</td>\n",
       "      <td>0</td>\n",
       "      <td>0</td>\n",
       "      <td>0</td>\n",
       "      <td>0</td>\n",
       "      <td>0</td>\n",
       "      <td>...</td>\n",
       "      <td>0</td>\n",
       "      <td>0</td>\n",
       "      <td>0</td>\n",
       "      <td>0</td>\n",
       "      <td>0</td>\n",
       "      <td>0</td>\n",
       "      <td>0</td>\n",
       "      <td>0</td>\n",
       "      <td>0</td>\n",
       "      <td>0</td>\n",
       "    </tr>\n",
       "    <tr>\n",
       "      <th>...</th>\n",
       "      <td>...</td>\n",
       "      <td>...</td>\n",
       "      <td>...</td>\n",
       "      <td>...</td>\n",
       "      <td>...</td>\n",
       "      <td>...</td>\n",
       "      <td>...</td>\n",
       "      <td>...</td>\n",
       "      <td>...</td>\n",
       "      <td>...</td>\n",
       "      <td>...</td>\n",
       "      <td>...</td>\n",
       "      <td>...</td>\n",
       "      <td>...</td>\n",
       "      <td>...</td>\n",
       "      <td>...</td>\n",
       "      <td>...</td>\n",
       "      <td>...</td>\n",
       "      <td>...</td>\n",
       "      <td>...</td>\n",
       "      <td>...</td>\n",
       "    </tr>\n",
       "    <tr>\n",
       "      <th>5269</th>\n",
       "      <td>Агентство развития профессиональных сообществ ...</td>\n",
       "      <td>0</td>\n",
       "      <td>0</td>\n",
       "      <td>0</td>\n",
       "      <td>0</td>\n",
       "      <td>0</td>\n",
       "      <td>0</td>\n",
       "      <td>0</td>\n",
       "      <td>0</td>\n",
       "      <td>0</td>\n",
       "      <td>...</td>\n",
       "      <td>0</td>\n",
       "      <td>0</td>\n",
       "      <td>0</td>\n",
       "      <td>0</td>\n",
       "      <td>0</td>\n",
       "      <td>0</td>\n",
       "      <td>0</td>\n",
       "      <td>0</td>\n",
       "      <td>0</td>\n",
       "      <td>0</td>\n",
       "    </tr>\n",
       "    <tr>\n",
       "      <th>2814</th>\n",
       "      <td>Агентство развития профессиональных сообществ ...</td>\n",
       "      <td>0</td>\n",
       "      <td>0</td>\n",
       "      <td>0</td>\n",
       "      <td>0</td>\n",
       "      <td>0</td>\n",
       "      <td>0</td>\n",
       "      <td>0</td>\n",
       "      <td>0</td>\n",
       "      <td>0</td>\n",
       "      <td>...</td>\n",
       "      <td>0</td>\n",
       "      <td>0</td>\n",
       "      <td>0</td>\n",
       "      <td>0</td>\n",
       "      <td>0</td>\n",
       "      <td>0</td>\n",
       "      <td>0</td>\n",
       "      <td>0</td>\n",
       "      <td>0</td>\n",
       "      <td>0</td>\n",
       "    </tr>\n",
       "    <tr>\n",
       "      <th>2029</th>\n",
       "      <td>Ассоциация участников технологических кружков</td>\n",
       "      <td>0</td>\n",
       "      <td>0</td>\n",
       "      <td>0</td>\n",
       "      <td>0</td>\n",
       "      <td>0</td>\n",
       "      <td>0</td>\n",
       "      <td>0</td>\n",
       "      <td>0</td>\n",
       "      <td>0</td>\n",
       "      <td>...</td>\n",
       "      <td>0</td>\n",
       "      <td>0</td>\n",
       "      <td>0</td>\n",
       "      <td>0</td>\n",
       "      <td>0</td>\n",
       "      <td>0</td>\n",
       "      <td>0</td>\n",
       "      <td>0</td>\n",
       "      <td>0</td>\n",
       "      <td>0</td>\n",
       "    </tr>\n",
       "    <tr>\n",
       "      <th>5413</th>\n",
       "      <td>Агентство развития профессиональных сообществ ...</td>\n",
       "      <td>0</td>\n",
       "      <td>0</td>\n",
       "      <td>0</td>\n",
       "      <td>0</td>\n",
       "      <td>0</td>\n",
       "      <td>0</td>\n",
       "      <td>0</td>\n",
       "      <td>0</td>\n",
       "      <td>0</td>\n",
       "      <td>...</td>\n",
       "      <td>0</td>\n",
       "      <td>0</td>\n",
       "      <td>0</td>\n",
       "      <td>0</td>\n",
       "      <td>0</td>\n",
       "      <td>0</td>\n",
       "      <td>0</td>\n",
       "      <td>0</td>\n",
       "      <td>0</td>\n",
       "      <td>0</td>\n",
       "    </tr>\n",
       "    <tr>\n",
       "      <th>1130</th>\n",
       "      <td>Агентство развития профессиональных сообществ ...</td>\n",
       "      <td>0</td>\n",
       "      <td>0</td>\n",
       "      <td>0</td>\n",
       "      <td>0</td>\n",
       "      <td>0</td>\n",
       "      <td>0</td>\n",
       "      <td>0</td>\n",
       "      <td>0</td>\n",
       "      <td>0</td>\n",
       "      <td>...</td>\n",
       "      <td>0</td>\n",
       "      <td>0</td>\n",
       "      <td>0</td>\n",
       "      <td>0</td>\n",
       "      <td>0</td>\n",
       "      <td>0</td>\n",
       "      <td>0</td>\n",
       "      <td>0</td>\n",
       "      <td>0</td>\n",
       "      <td>0</td>\n",
       "    </tr>\n",
       "  </tbody>\n",
       "</table>\n",
       "<p>5498 rows × 886 columns</p>\n",
       "</div>"
      ],
      "text/plain": [
       "                                     Должность_адресата  cad  cis  \\\n",
       "4309  Агентство развития профессиональных сообществ ...    0    0   \n",
       "4754  Агентство развития профессиональных сообществ ...    0    0   \n",
       "2370  Агентство развития профессиональных сообществ ...    0    0   \n",
       "399   Агентство развития профессиональных сообществ ...    0    0   \n",
       "225   Агентство развития профессиональных сообществ ...    0    0   \n",
       "...                                                 ...  ...  ...   \n",
       "5269  Агентство развития профессиональных сообществ ...    0    0   \n",
       "2814  Агентство развития профессиональных сообществ ...    0    0   \n",
       "2029      Ассоциация участников технологических кружков    0    0   \n",
       "5413  Агентство развития профессиональных сообществ ...    0    0   \n",
       "1130  Агентство развития профессиональных сообществ ...    0    0   \n",
       "\n",
       "      competition  digitallskills  digitalskills  esim  europe  euroskills  \\\n",
       "4309            0               0              0     0       0           0   \n",
       "4754            0               0              0     0       0           0   \n",
       "2370            0               0              0     0       0           0   \n",
       "399             0               0              0     0       0           0   \n",
       "225             0               0              0     0       0           0   \n",
       "...           ...             ...            ...   ...     ...         ...   \n",
       "5269            0               0              0     0       0           0   \n",
       "2814            0               0              0     0       0           0   \n",
       "2029            0               0              0     0       0           0   \n",
       "5413            0               0              0     0       0           0   \n",
       "1130            0               0              0     0       0           0   \n",
       "\n",
       "      futureskills  ...  электронный  энергия  этап  этот  юниор  якутия  \\\n",
       "4309             0  ...            0        0     0     0      0       0   \n",
       "4754             0  ...            0        0     0     0      0       0   \n",
       "2370             0  ...            0        0     0     0      0       0   \n",
       "399              0  ...            0        0     0     0      0       0   \n",
       "225              0  ...            0        0     0     0      0       0   \n",
       "...            ...  ...          ...      ...   ...   ...    ...     ...   \n",
       "5269             0  ...            0        0     0     0      0       0   \n",
       "2814             0  ...            0        0     0     0      0       0   \n",
       "2029             0  ...            0        0     0     0      0       0   \n",
       "5413             0  ...            0        0     0     0      0       0   \n",
       "1130             0  ...            0        0     0     0      0       0   \n",
       "\n",
       "      якутск  ялтинский  янв  январь  \n",
       "4309       0          0    0       0  \n",
       "4754       0          0    0       0  \n",
       "2370       0          0    0       0  \n",
       "399        0          0    0       0  \n",
       "225        0          0    0       0  \n",
       "...      ...        ...  ...     ...  \n",
       "5269       0          0    0       0  \n",
       "2814       0          0    0       0  \n",
       "2029       0          0    0       0  \n",
       "5413       0          0    0       0  \n",
       "1130       0          0    0       0  \n",
       "\n",
       "[5498 rows x 886 columns]"
      ]
     },
     "execution_count": 27,
     "metadata": {},
     "output_type": "execute_result"
    }
   ],
   "source": [
    "data"
   ]
  },
  {
   "cell_type": "markdown",
   "id": "bb070792",
   "metadata": {},
   "source": [
    "### 3.2.1 Удаление лишних атрибутов"
   ]
  },
  {
   "cell_type": "markdown",
   "id": "24fdefc5",
   "metadata": {},
   "source": [
    "За лишние атрибуты можно принять слова, которые не несут информации, по типу \"вх\", \"на\", \"от\", а также очень редкие атрибуты, суммарное количество появления которых меньше 10 раз"
   ]
  },
  {
   "cell_type": "code",
   "execution_count": 28,
   "id": "98d8f0a9",
   "metadata": {},
   "outputs": [],
   "source": [
    "key_words = data.drop(columns='Должность_адресата').sum().sort_values()"
   ]
  },
  {
   "cell_type": "code",
   "execution_count": 29,
   "id": "fc85ab12",
   "metadata": {},
   "outputs": [
    {
     "data": {
      "text/plain": [
       "дигиталскиллс                      3\n",
       "всероссийскуюнаучнопрактический    5\n",
       "digitallskills                     5\n",
       "взаимный                           5\n",
       "крым                               5\n",
       "                                  ..\n",
       "далее                              9\n",
       "ава                                9\n",
       "инновационный                      9\n",
       "главный                            9\n",
       "гарантийный                        9\n",
       "Length: 261, dtype: int64"
      ]
     },
     "execution_count": 29,
     "metadata": {},
     "output_type": "execute_result"
    }
   ],
   "source": [
    "key_words[key_words < 10]"
   ]
  },
  {
   "cell_type": "code",
   "execution_count": 30,
   "id": "e2d2e983",
   "metadata": {},
   "outputs": [],
   "source": [
    "attrs_to_del = list(key_words[key_words < 10].index)"
   ]
  },
  {
   "cell_type": "code",
   "execution_count": 31,
   "id": "808ef49a",
   "metadata": {},
   "outputs": [
    {
     "data": {
      "text/plain": [
       "экзамен              213\n",
       "рамка                216\n",
       "участник             217\n",
       "технология           219\n",
       "союз                 219\n",
       "согласование         220\n",
       "рф                   222\n",
       "республика           231\n",
       "информация           234\n",
       "организация          242\n",
       "рабочий              244\n",
       "перечень             247\n",
       "предоставление       249\n",
       "поручение            249\n",
       "мероприятие          251\n",
       "организационный      253\n",
       "совет                260\n",
       "приглашение          265\n",
       "соревнование         278\n",
       "финал                291\n",
       "отборочный           293\n",
       "область              307\n",
       "казань               311\n",
       "мировой              320\n",
       "мастерство           327\n",
       "от                   329\n",
       "региональный         362\n",
       "заявка               377\n",
       "профессионал         386\n",
       "молодой              391\n",
       "заседание            397\n",
       "программа            428\n",
       "подготовка           436\n",
       "проект               441\n",
       "национальный         442\n",
       "профессиональный     460\n",
       "компетенция          495\n",
       "россия               544\n",
       "для                  555\n",
       "worldskills          578\n",
       "год                  643\n",
       "стандарт             676\n",
       "ворлдскиллс          776\n",
       "направление          912\n",
       "проведение          1327\n",
       "на                  1520\n",
       "участие             1613\n",
       "чемпионат           1666\n",
       "по                  2543\n",
       "вх                  4451\n",
       "dtype: int64"
      ]
     },
     "execution_count": 31,
     "metadata": {},
     "output_type": "execute_result"
    }
   ],
   "source": [
    "key_words[-50:]"
   ]
  },
  {
   "cell_type": "code",
   "execution_count": 32,
   "id": "d031f40d",
   "metadata": {},
   "outputs": [],
   "source": [
    "attrs_to_del.extend('''от для на по вх'''.split())"
   ]
  },
  {
   "cell_type": "code",
   "execution_count": 33,
   "id": "ab75aa31",
   "metadata": {},
   "outputs": [],
   "source": [
    "data = data.drop(columns=attrs_to_del)"
   ]
  },
  {
   "cell_type": "markdown",
   "id": "fd4867a2",
   "metadata": {},
   "source": [
    "### 3.2.2 Удаление редких классов"
   ]
  },
  {
   "cell_type": "markdown",
   "id": "1549e3c6",
   "metadata": {},
   "source": [
    "За редкие классы можно принять классы с частотой появления меньше 10 записей "
   ]
  },
  {
   "cell_type": "code",
   "execution_count": 34,
   "id": "c11aa492",
   "metadata": {},
   "outputs": [],
   "source": [
    "classes_to_del = data['Должность_адресата'].value_counts()[data['Должность_адресата'].value_counts() < 10].index"
   ]
  },
  {
   "cell_type": "markdown",
   "id": "530e4cd5",
   "metadata": {},
   "source": [
    "Записей с редкими классами суммарно всего 355, что является небольшим количеством относительно общего количества данных, при этом позволяя достаточно хорошо очистить данные"
   ]
  },
  {
   "cell_type": "code",
   "execution_count": 35,
   "id": "ef5fbd51",
   "metadata": {},
   "outputs": [
    {
     "data": {
      "text/plain": [
       "355"
      ]
     },
     "execution_count": 35,
     "metadata": {},
     "output_type": "execute_result"
    }
   ],
   "source": [
    "data['Должность_адресата'].isin(classes_to_del).sum()"
   ]
  },
  {
   "cell_type": "markdown",
   "id": "da2c3291",
   "metadata": {},
   "source": [
    "Удаляю сами записи "
   ]
  },
  {
   "cell_type": "code",
   "execution_count": 36,
   "id": "da567d33",
   "metadata": {},
   "outputs": [],
   "source": [
    "data = data[~data['Должность_адресата'].isin(classes_to_del)]"
   ]
  },
  {
   "cell_type": "code",
   "execution_count": 42,
   "id": "3691f94c",
   "metadata": {},
   "outputs": [
    {
     "data": {
      "text/html": [
       "<div>\n",
       "<style scoped>\n",
       "    .dataframe tbody tr th:only-of-type {\n",
       "        vertical-align: middle;\n",
       "    }\n",
       "\n",
       "    .dataframe tbody tr th {\n",
       "        vertical-align: top;\n",
       "    }\n",
       "\n",
       "    .dataframe thead th {\n",
       "        text-align: right;\n",
       "    }\n",
       "</style>\n",
       "<table border=\"1\" class=\"dataframe\">\n",
       "  <thead>\n",
       "    <tr style=\"text-align: right;\">\n",
       "      <th></th>\n",
       "      <th>Должность_адресата</th>\n",
       "      <th>cis</th>\n",
       "      <th>competition</th>\n",
       "      <th>digitalskills</th>\n",
       "      <th>esim</th>\n",
       "      <th>euroskills</th>\n",
       "      <th>futureskills</th>\n",
       "      <th>hitech</th>\n",
       "      <th>ii</th>\n",
       "      <th>iii</th>\n",
       "      <th>...</th>\n",
       "      <th>электромонтаж</th>\n",
       "      <th>электронный</th>\n",
       "      <th>энергия</th>\n",
       "      <th>этап</th>\n",
       "      <th>этот</th>\n",
       "      <th>юниор</th>\n",
       "      <th>якутия</th>\n",
       "      <th>якутск</th>\n",
       "      <th>янв</th>\n",
       "      <th>январь</th>\n",
       "    </tr>\n",
       "  </thead>\n",
       "  <tbody>\n",
       "    <tr>\n",
       "      <th>4309</th>\n",
       "      <td>Агентство развития профессиональных сообществ ...</td>\n",
       "      <td>0</td>\n",
       "      <td>0</td>\n",
       "      <td>0</td>\n",
       "      <td>0</td>\n",
       "      <td>0</td>\n",
       "      <td>0</td>\n",
       "      <td>0</td>\n",
       "      <td>0</td>\n",
       "      <td>0</td>\n",
       "      <td>...</td>\n",
       "      <td>0</td>\n",
       "      <td>0</td>\n",
       "      <td>0</td>\n",
       "      <td>0</td>\n",
       "      <td>0</td>\n",
       "      <td>0</td>\n",
       "      <td>0</td>\n",
       "      <td>0</td>\n",
       "      <td>0</td>\n",
       "      <td>0</td>\n",
       "    </tr>\n",
       "    <tr>\n",
       "      <th>4754</th>\n",
       "      <td>Агентство развития профессиональных сообществ ...</td>\n",
       "      <td>0</td>\n",
       "      <td>0</td>\n",
       "      <td>0</td>\n",
       "      <td>0</td>\n",
       "      <td>0</td>\n",
       "      <td>0</td>\n",
       "      <td>0</td>\n",
       "      <td>0</td>\n",
       "      <td>0</td>\n",
       "      <td>...</td>\n",
       "      <td>0</td>\n",
       "      <td>0</td>\n",
       "      <td>0</td>\n",
       "      <td>0</td>\n",
       "      <td>0</td>\n",
       "      <td>0</td>\n",
       "      <td>0</td>\n",
       "      <td>0</td>\n",
       "      <td>0</td>\n",
       "      <td>0</td>\n",
       "    </tr>\n",
       "    <tr>\n",
       "      <th>2370</th>\n",
       "      <td>Агентство развития профессиональных сообществ ...</td>\n",
       "      <td>0</td>\n",
       "      <td>0</td>\n",
       "      <td>0</td>\n",
       "      <td>0</td>\n",
       "      <td>0</td>\n",
       "      <td>0</td>\n",
       "      <td>0</td>\n",
       "      <td>0</td>\n",
       "      <td>0</td>\n",
       "      <td>...</td>\n",
       "      <td>0</td>\n",
       "      <td>0</td>\n",
       "      <td>0</td>\n",
       "      <td>0</td>\n",
       "      <td>0</td>\n",
       "      <td>0</td>\n",
       "      <td>0</td>\n",
       "      <td>0</td>\n",
       "      <td>0</td>\n",
       "      <td>0</td>\n",
       "    </tr>\n",
       "    <tr>\n",
       "      <th>225</th>\n",
       "      <td>Агентство развития профессиональных сообществ ...</td>\n",
       "      <td>0</td>\n",
       "      <td>0</td>\n",
       "      <td>0</td>\n",
       "      <td>0</td>\n",
       "      <td>0</td>\n",
       "      <td>0</td>\n",
       "      <td>0</td>\n",
       "      <td>0</td>\n",
       "      <td>0</td>\n",
       "      <td>...</td>\n",
       "      <td>0</td>\n",
       "      <td>0</td>\n",
       "      <td>0</td>\n",
       "      <td>0</td>\n",
       "      <td>0</td>\n",
       "      <td>0</td>\n",
       "      <td>0</td>\n",
       "      <td>0</td>\n",
       "      <td>0</td>\n",
       "      <td>0</td>\n",
       "    </tr>\n",
       "    <tr>\n",
       "      <th>3062</th>\n",
       "      <td>Агентство развития профессиональных сообществ ...</td>\n",
       "      <td>0</td>\n",
       "      <td>0</td>\n",
       "      <td>0</td>\n",
       "      <td>0</td>\n",
       "      <td>0</td>\n",
       "      <td>0</td>\n",
       "      <td>0</td>\n",
       "      <td>0</td>\n",
       "      <td>0</td>\n",
       "      <td>...</td>\n",
       "      <td>0</td>\n",
       "      <td>0</td>\n",
       "      <td>0</td>\n",
       "      <td>0</td>\n",
       "      <td>0</td>\n",
       "      <td>0</td>\n",
       "      <td>0</td>\n",
       "      <td>0</td>\n",
       "      <td>0</td>\n",
       "      <td>0</td>\n",
       "    </tr>\n",
       "    <tr>\n",
       "      <th>...</th>\n",
       "      <td>...</td>\n",
       "      <td>...</td>\n",
       "      <td>...</td>\n",
       "      <td>...</td>\n",
       "      <td>...</td>\n",
       "      <td>...</td>\n",
       "      <td>...</td>\n",
       "      <td>...</td>\n",
       "      <td>...</td>\n",
       "      <td>...</td>\n",
       "      <td>...</td>\n",
       "      <td>...</td>\n",
       "      <td>...</td>\n",
       "      <td>...</td>\n",
       "      <td>...</td>\n",
       "      <td>...</td>\n",
       "      <td>...</td>\n",
       "      <td>...</td>\n",
       "      <td>...</td>\n",
       "      <td>...</td>\n",
       "      <td>...</td>\n",
       "    </tr>\n",
       "    <tr>\n",
       "      <th>5576</th>\n",
       "      <td>Агентство развития профессиональных сообществ ...</td>\n",
       "      <td>0</td>\n",
       "      <td>0</td>\n",
       "      <td>0</td>\n",
       "      <td>0</td>\n",
       "      <td>0</td>\n",
       "      <td>0</td>\n",
       "      <td>0</td>\n",
       "      <td>0</td>\n",
       "      <td>0</td>\n",
       "      <td>...</td>\n",
       "      <td>0</td>\n",
       "      <td>0</td>\n",
       "      <td>0</td>\n",
       "      <td>0</td>\n",
       "      <td>0</td>\n",
       "      <td>0</td>\n",
       "      <td>0</td>\n",
       "      <td>0</td>\n",
       "      <td>0</td>\n",
       "      <td>0</td>\n",
       "    </tr>\n",
       "    <tr>\n",
       "      <th>5269</th>\n",
       "      <td>Агентство развития профессиональных сообществ ...</td>\n",
       "      <td>0</td>\n",
       "      <td>0</td>\n",
       "      <td>0</td>\n",
       "      <td>0</td>\n",
       "      <td>0</td>\n",
       "      <td>0</td>\n",
       "      <td>0</td>\n",
       "      <td>0</td>\n",
       "      <td>0</td>\n",
       "      <td>...</td>\n",
       "      <td>0</td>\n",
       "      <td>0</td>\n",
       "      <td>0</td>\n",
       "      <td>0</td>\n",
       "      <td>0</td>\n",
       "      <td>0</td>\n",
       "      <td>0</td>\n",
       "      <td>0</td>\n",
       "      <td>0</td>\n",
       "      <td>0</td>\n",
       "    </tr>\n",
       "    <tr>\n",
       "      <th>2814</th>\n",
       "      <td>Агентство развития профессиональных сообществ ...</td>\n",
       "      <td>0</td>\n",
       "      <td>0</td>\n",
       "      <td>0</td>\n",
       "      <td>0</td>\n",
       "      <td>0</td>\n",
       "      <td>0</td>\n",
       "      <td>0</td>\n",
       "      <td>0</td>\n",
       "      <td>0</td>\n",
       "      <td>...</td>\n",
       "      <td>0</td>\n",
       "      <td>0</td>\n",
       "      <td>0</td>\n",
       "      <td>0</td>\n",
       "      <td>0</td>\n",
       "      <td>0</td>\n",
       "      <td>0</td>\n",
       "      <td>0</td>\n",
       "      <td>0</td>\n",
       "      <td>0</td>\n",
       "    </tr>\n",
       "    <tr>\n",
       "      <th>5413</th>\n",
       "      <td>Агентство развития профессиональных сообществ ...</td>\n",
       "      <td>0</td>\n",
       "      <td>0</td>\n",
       "      <td>0</td>\n",
       "      <td>0</td>\n",
       "      <td>0</td>\n",
       "      <td>0</td>\n",
       "      <td>0</td>\n",
       "      <td>0</td>\n",
       "      <td>0</td>\n",
       "      <td>...</td>\n",
       "      <td>0</td>\n",
       "      <td>0</td>\n",
       "      <td>0</td>\n",
       "      <td>0</td>\n",
       "      <td>0</td>\n",
       "      <td>0</td>\n",
       "      <td>0</td>\n",
       "      <td>0</td>\n",
       "      <td>0</td>\n",
       "      <td>0</td>\n",
       "    </tr>\n",
       "    <tr>\n",
       "      <th>1130</th>\n",
       "      <td>Агентство развития профессиональных сообществ ...</td>\n",
       "      <td>0</td>\n",
       "      <td>0</td>\n",
       "      <td>0</td>\n",
       "      <td>0</td>\n",
       "      <td>0</td>\n",
       "      <td>0</td>\n",
       "      <td>0</td>\n",
       "      <td>0</td>\n",
       "      <td>0</td>\n",
       "      <td>...</td>\n",
       "      <td>0</td>\n",
       "      <td>0</td>\n",
       "      <td>0</td>\n",
       "      <td>0</td>\n",
       "      <td>0</td>\n",
       "      <td>0</td>\n",
       "      <td>0</td>\n",
       "      <td>0</td>\n",
       "      <td>0</td>\n",
       "      <td>0</td>\n",
       "    </tr>\n",
       "  </tbody>\n",
       "</table>\n",
       "<p>5143 rows × 620 columns</p>\n",
       "</div>"
      ],
      "text/plain": [
       "                                     Должность_адресата  cis  competition  \\\n",
       "4309  Агентство развития профессиональных сообществ ...    0            0   \n",
       "4754  Агентство развития профессиональных сообществ ...    0            0   \n",
       "2370  Агентство развития профессиональных сообществ ...    0            0   \n",
       "225   Агентство развития профессиональных сообществ ...    0            0   \n",
       "3062  Агентство развития профессиональных сообществ ...    0            0   \n",
       "...                                                 ...  ...          ...   \n",
       "5576  Агентство развития профессиональных сообществ ...    0            0   \n",
       "5269  Агентство развития профессиональных сообществ ...    0            0   \n",
       "2814  Агентство развития профессиональных сообществ ...    0            0   \n",
       "5413  Агентство развития профессиональных сообществ ...    0            0   \n",
       "1130  Агентство развития профессиональных сообществ ...    0            0   \n",
       "\n",
       "      digitalskills  esim  euroskills  futureskills  hitech  ii  iii  ...  \\\n",
       "4309              0     0           0             0       0   0    0  ...   \n",
       "4754              0     0           0             0       0   0    0  ...   \n",
       "2370              0     0           0             0       0   0    0  ...   \n",
       "225               0     0           0             0       0   0    0  ...   \n",
       "3062              0     0           0             0       0   0    0  ...   \n",
       "...             ...   ...         ...           ...     ...  ..  ...  ...   \n",
       "5576              0     0           0             0       0   0    0  ...   \n",
       "5269              0     0           0             0       0   0    0  ...   \n",
       "2814              0     0           0             0       0   0    0  ...   \n",
       "5413              0     0           0             0       0   0    0  ...   \n",
       "1130              0     0           0             0       0   0    0  ...   \n",
       "\n",
       "      электромонтаж  электронный  энергия  этап  этот  юниор  якутия  якутск  \\\n",
       "4309              0            0        0     0     0      0       0       0   \n",
       "4754              0            0        0     0     0      0       0       0   \n",
       "2370              0            0        0     0     0      0       0       0   \n",
       "225               0            0        0     0     0      0       0       0   \n",
       "3062              0            0        0     0     0      0       0       0   \n",
       "...             ...          ...      ...   ...   ...    ...     ...     ...   \n",
       "5576              0            0        0     0     0      0       0       0   \n",
       "5269              0            0        0     0     0      0       0       0   \n",
       "2814              0            0        0     0     0      0       0       0   \n",
       "5413              0            0        0     0     0      0       0       0   \n",
       "1130              0            0        0     0     0      0       0       0   \n",
       "\n",
       "      янв  январь  \n",
       "4309    0       0  \n",
       "4754    0       0  \n",
       "2370    0       0  \n",
       "225     0       0  \n",
       "3062    0       0  \n",
       "...   ...     ...  \n",
       "5576    0       0  \n",
       "5269    0       0  \n",
       "2814    0       0  \n",
       "5413    0       0  \n",
       "1130    0       0  \n",
       "\n",
       "[5143 rows x 620 columns]"
      ]
     },
     "execution_count": 42,
     "metadata": {},
     "output_type": "execute_result"
    }
   ],
   "source": [
    "data"
   ]
  },
  {
   "cell_type": "markdown",
   "id": "70370a53",
   "metadata": {},
   "source": [
    "### 3.2.3 Разбиение данных и проверка модели"
   ]
  },
  {
   "cell_type": "code",
   "execution_count": 43,
   "id": "75b8d2ea",
   "metadata": {},
   "outputs": [],
   "source": [
    "from sklearn.model_selection import train_test_split"
   ]
  },
  {
   "cell_type": "code",
   "execution_count": 44,
   "id": "6b63384e",
   "metadata": {},
   "outputs": [],
   "source": [
    "x_train, x_test, y_train, y_test = train_test_split(data.drop(columns='Должность_адресата'), data['Должность_адресата'], stratify=data['Должность_адресата'], test_size=0.15)"
   ]
  },
  {
   "cell_type": "markdown",
   "id": "a9d76f5e",
   "metadata": {},
   "source": [
    "Проверка RandomForestClassifier с такими же параметрами и метриками качества обучения"
   ]
  },
  {
   "cell_type": "code",
   "execution_count": 45,
   "id": "1fc17687",
   "metadata": {},
   "outputs": [],
   "source": [
    "RFC1 = RandomForestClassifier(random_state=1).fit(x_train, y_train)"
   ]
  },
  {
   "cell_type": "code",
   "execution_count": 46,
   "id": "e6136f83",
   "metadata": {},
   "outputs": [
    {
     "data": {
      "text/plain": [
       "0.7203922903981894"
      ]
     },
     "execution_count": 46,
     "metadata": {},
     "output_type": "execute_result"
    }
   ],
   "source": [
    "f1_score(RFC1.predict(x_test), y_test, average='weighted')"
   ]
  },
  {
   "cell_type": "code",
   "execution_count": 47,
   "id": "1d9cd9c3",
   "metadata": {},
   "outputs": [
    {
     "data": {
      "text/plain": [
       "0.7059585492227979"
      ]
     },
     "execution_count": 47,
     "metadata": {},
     "output_type": "execute_result"
    }
   ],
   "source": [
    "accuracy_score(RFC1.predict(x_test), y_test)"
   ]
  },
  {
   "cell_type": "markdown",
   "id": "0c581c11",
   "metadata": {},
   "source": [
    "Модель после Feature Engineering выдала лучший результат по обоим метрикам чем до, что можно считать успехом "
   ]
  },
  {
   "cell_type": "markdown",
   "id": "73195229",
   "metadata": {},
   "source": [
    "### 3.2.4 Обучение модели на полных данных"
   ]
  },
  {
   "cell_type": "markdown",
   "id": "aca91c3a",
   "metadata": {},
   "source": [
    "Обучение модели на полных данных позволит получить лучшую точность модели на новых данных"
   ]
  },
  {
   "cell_type": "code",
   "execution_count": 50,
   "id": "7c8e5abc",
   "metadata": {},
   "outputs": [],
   "source": [
    "RFC = RandomForestClassifier(random_state=1).fit(data.drop(columns='Должность_адресата'), data['Должность_адресата'])"
   ]
  },
  {
   "cell_type": "code",
   "execution_count": 54,
   "id": "fcbb66b0",
   "metadata": {},
   "outputs": [],
   "source": [
    "pickle.dump(RFC1, open('model.pkl', 'wb'))"
   ]
  },
  {
   "cell_type": "code",
   "execution_count": 53,
   "id": "48d89b45",
   "metadata": {},
   "outputs": [],
   "source": [
    "pickle.dump(attrs_to_del, open('attrs_to_delS3.pkl', 'wb'))"
   ]
  }
 ],
 "metadata": {
  "kernelspec": {
   "display_name": "Python 3 (ipykernel)",
   "language": "python",
   "name": "python3"
  },
  "language_info": {
   "codemirror_mode": {
    "name": "ipython",
    "version": 3
   },
   "file_extension": ".py",
   "mimetype": "text/x-python",
   "name": "python",
   "nbconvert_exporter": "python",
   "pygments_lexer": "ipython3",
   "version": "3.9.12"
  },
  "toc": {
   "base_numbering": 1,
   "nav_menu": {},
   "number_sections": true,
   "sideBar": true,
   "skip_h1_title": false,
   "title_cell": "Table of Contents",
   "title_sidebar": "Contents",
   "toc_cell": false,
   "toc_position": {},
   "toc_section_display": true,
   "toc_window_display": false
  },
  "varInspector": {
   "cols": {
    "lenName": 16,
    "lenType": 16,
    "lenVar": 40
   },
   "kernels_config": {
    "python": {
     "delete_cmd_postfix": "",
     "delete_cmd_prefix": "del ",
     "library": "var_list.py",
     "varRefreshCmd": "print(var_dic_list())"
    },
    "r": {
     "delete_cmd_postfix": ") ",
     "delete_cmd_prefix": "rm(",
     "library": "var_list.r",
     "varRefreshCmd": "cat(var_dic_list()) "
    }
   },
   "types_to_exclude": [
    "module",
    "function",
    "builtin_function_or_method",
    "instance",
    "_Feature"
   ],
   "window_display": false
  }
 },
 "nbformat": 4,
 "nbformat_minor": 5
}
